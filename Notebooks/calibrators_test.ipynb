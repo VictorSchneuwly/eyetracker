{
 "cells": [
  {
   "cell_type": "code",
   "execution_count": 7,
   "id": "6674c0c6-eee5-4728-9877-8aa0dbbb217a",
   "metadata": {},
   "outputs": [],
   "source": [
    "from calibrators import *"
   ]
  },
  {
   "cell_type": "markdown",
   "id": "e84ff690",
   "metadata": {},
   "source": [
    "Import data from csv"
   ]
  },
  {
   "cell_type": "code",
   "execution_count": 9,
   "id": "63723972",
   "metadata": {},
   "outputs": [],
   "source": [
    "data = import_from_csv(\"data/calibrationData_2024-04-29T12-56-12Z.csv\")"
   ]
  },
  {
   "cell_type": "code",
   "execution_count": 10,
   "id": "e50d5bbe",
   "metadata": {},
   "outputs": [
    {
     "data": {
      "text/plain": [
       "(-588.4875678281361, -1067.617007912797)"
      ]
     },
     "execution_count": 10,
     "metadata": {},
     "output_type": "execute_result"
    }
   ],
   "source": [
    "aoc = AverageOffsetCalibrator(data)\n",
    "aoc.calibrate((0, 0))"
   ]
  },
  {
   "cell_type": "code",
   "execution_count": 11,
   "id": "c40efca6",
   "metadata": {},
   "outputs": [
    {
     "data": {
      "text/plain": [
       "(-577.7242794795692, -850.1651631419289)"
      ]
     },
     "execution_count": 11,
     "metadata": {},
     "output_type": "execute_result"
    }
   ],
   "source": [
    "woc = WeightedOffsetCalibrator(data)\n",
    "woc.calibrate((0, 0))"
   ]
  }
 ],
 "metadata": {
  "kernelspec": {
   "display_name": ".venv",
   "language": "python",
   "name": "python3"
  },
  "language_info": {
   "codemirror_mode": {
    "name": "ipython",
    "version": 3
   },
   "file_extension": ".py",
   "mimetype": "text/x-python",
   "name": "python",
   "nbconvert_exporter": "python",
   "pygments_lexer": "ipython3",
   "version": "3.12.3"
  }
 },
 "nbformat": 4,
 "nbformat_minor": 5
}
